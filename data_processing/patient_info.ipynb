{
 "cells": [
  {
   "cell_type": "code",
   "execution_count": null,
   "metadata": {},
   "outputs": [],
   "source": [
    "import pandas as pd\n",
    "import json\n",
    "import numpy as np\n",
    "\n",
    "\n",
    "df_patient = pd.read_csv(\"./data/MIMIC/PATIENTS.csv\")\n",
    "df_admits = pd.read_csv(\"./data/MIMIC/filterd_data/admits_final.csv\")\n",
    "df_diagnosis_icd = pd.read_csv(\"./data/MIMIC/DIAGNOSES_ICD.csv\")\n",
    "df_procedure_icd = pd.read_csv(\"./data/MIMIC/PROCEDURES_ICD.csv\")\n",
    "df_diagnosis_d = pd.read_csv(\"./data/MIMIC/D_ICD_DIAGNOSES.csv\")\n",
    "df_procedure_d = pd.read_csv(\"./data/MIMIC/D_ICD_PROCEDURES.csv\")\n",
    "\n",
    "f = open(\"./data/MIMIC/filterd_data/adm_id_train.txt\")\n",
    "note_index = json.load(f)\n",
    "f.close()"
   ]
  },
  {
   "cell_type": "code",
   "execution_count": null,
   "metadata": {},
   "outputs": [],
   "source": [
    "patient_information = []\n",
    "for key in note_index.keys():\n",
    "  for n in note_index[key]:\n",
    "    g = df_admits[df_admits['HADM_ID']==int(key)]['GENDER'].values[0]\n",
    "    if (g != \"F\") and (g!= \"M\"): # nan\n",
    "      gender = \"patient\"\n",
    "    else:\n",
    "      gender = \"female\" if g==\"F\" else \"male\"\n",
    "    a = df_admits[df_admits['HADM_ID']==int(key)]['AGE'].values[0]\n",
    "    if not (a>0): # nan\n",
    "      age = \"\"\n",
    "    else:\n",
    "      age = str(int(a)) + \"-year-old\"\n",
    "\n",
    "    diagnose_icd_list = list(df_diagnosis_icd[df_diagnosis_icd['HADM_ID']==int(key)]['ICD9_CODE'])\n",
    "    procedure_icd_list = list(df_procedure_icd[df_procedure_icd['HADM_ID']==int(key)]['ICD9_CODE'])\n",
    "    d_description = []\n",
    "    p_description = []\n",
    "    for c in diagnose_icd_list:\n",
    "      if len(df_diagnosis_d[df_diagnosis_d['ICD9_CODE']==c]['LONG_TITLE'].values) > 0:\n",
    "        d_description.append(df_diagnosis_d[df_diagnosis_d['ICD9_CODE']==c]['LONG_TITLE'].values[0])\n",
    "    for c in procedure_icd_list:\n",
    "      if len(df_procedure_d[df_procedure_d['icd9_code']==c]['long_title'].values) > 0:\n",
    "        p_description.append(df_procedure_d[df_procedure_d['icd9_code']==c]['long_title'].values[0])\n",
    "    d_description = d_description[:2] if len(d_description)>=2 else d_description\n",
    "    p_description = p_description[:2] if len(p_description)>=2 else p_description\n",
    "    diagnose = '; '.join(d_description)\n",
    "    procedures = '; '.join(p_description)\n",
    "    patient_info = \"A \" + age + \" \" + gender + \".\" + \" Diagnosis: \" + diagnose + \". Procedures: \" + procedures + \".\"\n",
    "    patient_information.append(patient_info)"
   ]
  }
 ],
 "metadata": {
  "language_info": {
   "name": "python"
  }
 },
 "nbformat": 4,
 "nbformat_minor": 2
}
